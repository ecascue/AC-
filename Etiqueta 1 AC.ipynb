{
 "cells": [
  {
   "cell_type": "markdown",
   "metadata": {},
   "source": []
  },
  {
   "cell_type": "markdown",
   "metadata": {},
   "source": [
    "# E.T.S.I.I. - GRADO EN INGENIERÍA DE LA SALUD\n",
    "# Ampliación de Cálculo - TRABAJO EN GRUPO 2"
   ]
  },
  {
   "cell_type": "markdown",
   "metadata": {},
   "source": [
    "**Grupo de trabajo**: Etiqueta 1.   **Revisores**: Esther Casado, Pilar Palomino, Ángela Moreno, Carmen Cabezas, Pedro Acero."
   ]
  },
  {
   "cell_type": "markdown",
   "metadata": {},
   "source": [
    "## Índice de contenidos\n",
    "* [1. Primer ejercicio](#ej1)\n",
    "  * [1.1. Apartado 1](#a)\n",
    "  * [1.2. Apartado 2](#b)\n",
    "  * [1.3. Apartado 3](#c)\n",
    "  * [1.4. Apartado 4](#d)\n",
    "* [2. Segundo ejercicio](#ej2)\n",
    "  * [2.1. Apartado 1](#a2)\n",
    "  * [2.2. Apartado 2](#b2)\n",
    "  * [2.3. Apartado 3](#c2)\n",
    "  * [2.4. Apartado 4](#d2)\n",
    "  * [2.5. Apartado 5](#e2)\n",
    "  * [2.6. Apartado 4](#f2)\n"
   ]
  },
  {
   "cell_type": "markdown",
   "metadata": {},
   "source": [
    "## EJERCICIO 1 \n",
    "<a id=\"ej1\"></a>"
   ]
  },
  {
   "cell_type": "markdown",
   "metadata": {},
   "source": [
    "Sean a = 5, b = 2, A = 7, B = 3, C4 = y D = 2. Se pide:"
   ]
  },
  {
   "cell_type": "markdown",
   "metadata": {},
   "source": [
    "1. Dar una EDO homogénea de segundo orden lineal de coeficientes constantes que tenga como solucines particulares: $$Ae^{at}+Be^{bt}$$ \n",
    "<a id=\"a\"></a>"
   ]
  },
  {
   "cell_type": "code",
   "execution_count": null,
   "metadata": {},
   "outputs": [],
   "source": []
  },
  {
   "cell_type": "markdown",
   "metadata": {},
   "source": [
    "2. Dar una EDO  de segundo orden lineal de coeficientes constantes que tenga a las tres funciones que tenga como soluciones particulares: $Ae^{at}+Ce^{(a+b)t}, Be^{bt}+Ce{(â+b)t}, Ae^{at}+Be^{bt}+Ce^{(a+b)t} $\n",
    "<a id=\"b\"></a>"
   ]
  },
  {
   "cell_type": "code",
   "execution_count": null,
   "metadata": {},
   "outputs": [],
   "source": []
  },
  {
   "cell_type": "markdown",
   "metadata": {},
   "source": [
    "3. Dar una EDO  de segundo orden lineal de coeficientes constantes que tenga a las tres funciones que tenga como soluciones particulares: $Ae^{at}+Dcos((a+b)t), Be^{bt}+Dcos((a+b)t), Ae^{at}+Be^{bt}+Dcos((a+b)t) $\n",
    "<a id=\"c\"></a>"
   ]
  },
  {
   "cell_type": "code",
   "execution_count": null,
   "metadata": {},
   "outputs": [],
   "source": []
  },
  {
   "cell_type": "markdown",
   "metadata": {},
   "source": [
    "4. Dar una EDO  de segundo orden lineal de coeficientes constantes que tenga a las tres funciones que tenga como soluciones particulares: $Ae^{at}+Be^{bt}+Ce^{(a+b)t}+Dcos((a+b)t)$  $ Be^{at}+Ae^{bt}+(a+b)Ce^{(a+b)t}+(a-b)Dcos((a+b)t) $\n",
    "<a id=\"d\"></a>"
   ]
  },
  {
   "cell_type": "code",
   "execution_count": null,
   "metadata": {},
   "outputs": [],
   "source": []
  },
  {
   "cell_type": "markdown",
   "metadata": {},
   "source": [
    "## EJERCICIO 2 \n",
    "<a id=\"ej2\"></a>"
   ]
  },
  {
   "cell_type": "markdown",
   "metadata": {},
   "source": [
    "El SDO homogéneo dado por $y' = Ay$, para $A =\\begin{bmatrix} a&b \\\\\\ c&d \\end{bmatrix}$\n",
    ", permite modelar la beligerancia entre dos naciones, midiendo el poder bélico de cada una de ellas. Así, el poder bélico de cada nación (y1(t) para la Nación 1, y2(t) para la Nación 2), es directamente proporcional al poder bélico de la nación rival, aunque decrece linealmente en función del dinero que cuesta su propio desarrollo militar. Se pide:"
   ]
  },
  {
   "cell_type": "markdown",
   "metadata": {},
   "source": [
    "1. Tómese a = −17, b = 7, c = 3 y d = −13. Determinar el poder bélico de cada nación (se sugiere desepejar y1 de la segunda ecuaci´on y resolver la EDO de segundo orden que origina y2 en la primera ecuación).\n",
    "<a id=\"a2\"></a>"
   ]
  },
  {
   "cell_type": "code",
   "execution_count": null,
   "metadata": {},
   "outputs": [],
   "source": []
  },
  {
   "cell_type": "markdown",
   "metadata": {},
   "source": [
    "2. ¿Qué comportamiento se espera entre ambas naciones con el paso del tiempo?\n",
    "<a id=\"b2\"></a>"
   ]
  },
  {
   "cell_type": "code",
   "execution_count": null,
   "metadata": {},
   "outputs": [],
   "source": []
  },
  {
   "cell_type": "markdown",
   "metadata": {},
   "source": [
    "3. Habitualmente, la relación política entre ambos países depende también del estado de sus relaciones diplomáticas, n1 y n2; que actúan como términos correctores para y1 e y2, en la forma $$y'=Ay + \\begin{bmatrix} n1 \\\\\\ n2 \\end{bmatrix} $$.\n",
    "<a id=\"c2\"></a>"
   ]
  }
 ],
 "metadata": {
  "celltoolbar": "Raw Cell Format",
  "kernelspec": {
   "display_name": "SageMath 9.3",
   "language": "sage",
   "name": "sagemath"
  },
  "language_info": {
   "codemirror_mode": {
    "name": "ipython",
    "version": 3
   },
   "file_extension": ".py",
   "mimetype": "text/x-python",
   "name": "python",
   "nbconvert_exporter": "python",
   "pygments_lexer": "ipython3",
   "version": "3.7.10"
  }
 },
 "nbformat": 4,
 "nbformat_minor": 4
}
